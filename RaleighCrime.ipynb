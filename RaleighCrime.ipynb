{
 "cells": [
  {
   "cell_type": "code",
   "execution_count": 1,
   "metadata": {
    "collapsed": true
   },
   "outputs": [],
   "source": [
    "#Import libraries\n",
    "import pandas as pd\n",
    "import os\n",
    "\n",
    "import matplotlib.pyplot as plt\n",
    "%matplotlib inline\n",
    "\n",
    "os.chdir('D:/Users/Clark/Desktop/Data Science/Datasets')"
   ]
  },
  {
   "cell_type": "markdown",
   "metadata": {},
   "source": [
    "# The following dataset comes from the City of Raleigh's-Open Data repository and represents police incident data from 2005-present for the city. For more information, see the link below.\n",
    "\n",
    "https://data.raleighnc.gov/Police/Police-Crime-Incident-Data-from-Jan-1-2005-Present/csw9-dd5k"
   ]
  },
  {
   "cell_type": "code",
   "execution_count": 2,
   "metadata": {},
   "outputs": [
    {
     "data": {
      "text/html": [
       "<div>\n",
       "<style scoped>\n",
       "    .dataframe tbody tr th:only-of-type {\n",
       "        vertical-align: middle;\n",
       "    }\n",
       "\n",
       "    .dataframe tbody tr th {\n",
       "        vertical-align: top;\n",
       "    }\n",
       "\n",
       "    .dataframe thead th {\n",
       "        text-align: right;\n",
       "    }\n",
       "</style>\n",
       "<table border=\"1\" class=\"dataframe\">\n",
       "  <thead>\n",
       "    <tr style=\"text-align: right;\">\n",
       "      <th></th>\n",
       "      <th>LCR</th>\n",
       "      <th>LCR DESC</th>\n",
       "      <th>INC DATETIME</th>\n",
       "      <th>INC NO</th>\n",
       "      <th>LOCATION</th>\n",
       "      <th>DISTRICT</th>\n",
       "    </tr>\n",
       "  </thead>\n",
       "  <tbody>\n",
       "    <tr>\n",
       "      <th>0</th>\n",
       "      <td>81A</td>\n",
       "      <td>Miscellaneous/All Other Non-Offenses</td>\n",
       "      <td>2014-08-14 22:21:00</td>\n",
       "      <td>P14085939</td>\n",
       "      <td>(35.82367885079229, -78.62333290344488)</td>\n",
       "      <td>NaN</td>\n",
       "    </tr>\n",
       "    <tr>\n",
       "      <th>1</th>\n",
       "      <td>80B</td>\n",
       "      <td>All Other/Damage to Property (minor)</td>\n",
       "      <td>2014-08-14 22:07:00</td>\n",
       "      <td>P14085936</td>\n",
       "      <td>(35.75644323486635, -78.60984284716082)</td>\n",
       "      <td>NaN</td>\n",
       "    </tr>\n",
       "    <tr>\n",
       "      <th>2</th>\n",
       "      <td>54B</td>\n",
       "      <td>Drug Violation/Possession</td>\n",
       "      <td>2014-08-14 21:44:00</td>\n",
       "      <td>P14085935</td>\n",
       "      <td>(35.85812999173558, -78.70588414548287)</td>\n",
       "      <td>NaN</td>\n",
       "    </tr>\n",
       "    <tr>\n",
       "      <th>3</th>\n",
       "      <td>81A</td>\n",
       "      <td>Miscellaneous/All Other Non-Offenses</td>\n",
       "      <td>2014-08-14 21:41:00</td>\n",
       "      <td>P14085934</td>\n",
       "      <td>(35.85471855573689, -78.56999498891395)</td>\n",
       "      <td>NaN</td>\n",
       "    </tr>\n",
       "    <tr>\n",
       "      <th>4</th>\n",
       "      <td>81A</td>\n",
       "      <td>Miscellaneous/All Other Non-Offenses</td>\n",
       "      <td>2014-08-14 20:56:00</td>\n",
       "      <td>P14085932</td>\n",
       "      <td>(35.81629703301527, -78.61212871882577)</td>\n",
       "      <td>NaN</td>\n",
       "    </tr>\n",
       "  </tbody>\n",
       "</table>\n",
       "</div>"
      ],
      "text/plain": [
       "   LCR                              LCR DESC        INC DATETIME     INC NO  \\\n",
       "0  81A  Miscellaneous/All Other Non-Offenses 2014-08-14 22:21:00  P14085939   \n",
       "1  80B  All Other/Damage to Property (minor) 2014-08-14 22:07:00  P14085936   \n",
       "2  54B             Drug Violation/Possession 2014-08-14 21:44:00  P14085935   \n",
       "3  81A  Miscellaneous/All Other Non-Offenses 2014-08-14 21:41:00  P14085934   \n",
       "4  81A  Miscellaneous/All Other Non-Offenses 2014-08-14 20:56:00  P14085932   \n",
       "\n",
       "                                  LOCATION DISTRICT  \n",
       "0  (35.82367885079229, -78.62333290344488)      NaN  \n",
       "1  (35.75644323486635, -78.60984284716082)      NaN  \n",
       "2  (35.85812999173558, -78.70588414548287)      NaN  \n",
       "3  (35.85471855573689, -78.56999498891395)      NaN  \n",
       "4  (35.81629703301527, -78.61212871882577)      NaN  "
      ]
     },
     "execution_count": 2,
     "metadata": {},
     "output_type": "execute_result"
    }
   ],
   "source": [
    "#Read in Crime Data\n",
    "crimes = pd.read_csv('raleigh_crimes.csv', parse_dates=['INC DATETIME'])\n",
    "crimes.head()"
   ]
  },
  {
   "cell_type": "code",
   "execution_count": 3,
   "metadata": {},
   "outputs": [
    {
     "name": "stdout",
     "output_type": "stream",
     "text": [
      "<class 'pandas.core.frame.DataFrame'>\n",
      "RangeIndex: 565223 entries, 0 to 565222\n",
      "Data columns (total 6 columns):\n",
      "LCR             561956 non-null object\n",
      "LCR DESC        561954 non-null object\n",
      "INC DATETIME    561959 non-null datetime64[ns]\n",
      "INC NO          565223 non-null object\n",
      "LOCATION        493516 non-null object\n",
      "DISTRICT        559312 non-null object\n",
      "dtypes: datetime64[ns](1), object(5)\n",
      "memory usage: 25.9+ MB\n"
     ]
    }
   ],
   "source": [
    "#What does the structure of the dataset look like?\n",
    "crimes.info()"
   ]
  },
  {
   "cell_type": "code",
   "execution_count": 4,
   "metadata": {},
   "outputs": [
    {
     "name": "stdout",
     "output_type": "stream",
     "text": [
      "<class 'pandas.core.frame.DataFrame'>\n",
      "RangeIndex: 565223 entries, 0 to 565222\n",
      "Data columns (total 6 columns):\n",
      "LCR             561956 non-null category\n",
      "LCR DESC        561954 non-null category\n",
      "INC DATETIME    561959 non-null datetime64[ns]\n",
      "INC NO          565223 non-null object\n",
      "LOCATION        493516 non-null object\n",
      "DISTRICT        559312 non-null category\n",
      "dtypes: category(3), datetime64[ns](1), object(2)\n",
      "memory usage: 15.7+ MB\n"
     ]
    }
   ],
   "source": [
    "#Define categories to conserve memory\n",
    "crimes['DISTRICT'] = crimes['DISTRICT'].astype('category')\n",
    "crimes['LCR'] = crimes['LCR'].astype('category')\n",
    "crimes['LCR DESC'] = crimes['LCR DESC'].astype('category')\n",
    "crimes.info()"
   ]
  },
  {
   "cell_type": "markdown",
   "metadata": {},
   "source": [
    "# How many different types of crimes have been reported?\n",
    "\n",
    "Note: LCR stands for (Local crime reporting code)"
   ]
  },
  {
   "cell_type": "code",
   "execution_count": 10,
   "metadata": {},
   "outputs": [
    {
     "data": {
      "text/plain": [
       "428"
      ]
     },
     "execution_count": 10,
     "metadata": {},
     "output_type": "execute_result"
    }
   ],
   "source": [
    "crimes['LCR'].nunique()"
   ]
  },
  {
   "cell_type": "markdown",
   "metadata": {},
   "source": [
    "# What are the most popular crimes?"
   ]
  },
  {
   "cell_type": "code",
   "execution_count": 11,
   "metadata": {},
   "outputs": [
    {
     "data": {
      "text/plain": [
       "assault simple (not aggravated)                      36689\n",
       "misc/all other / no offense committed                32766\n",
       "miscellaneous/all other non-offenses                 20080\n",
       "misc/mental commitment                               18469\n",
       "drugs/possession/marijuana                           18023\n",
       "all other/all other offenses (comm.threats, etc.)    16049\n",
       "damage to vehicles                                   15211\n",
       "damage to property/private property                  14923\n",
       "assault/simple                                       12465\n",
       "driving while impaired                               10032\n",
       "Name: LCR DESC, dtype: int64"
      ]
     },
     "execution_count": 11,
     "metadata": {},
     "output_type": "execute_result"
    }
   ],
   "source": [
    "crimes['LCR DESC'].str.lower().value_counts().head(10)"
   ]
  },
  {
   "cell_type": "markdown",
   "metadata": {},
   "source": [
    "# What are the highest Crime Locations\n",
    "\n",
    "Note: These districts likely represent the locations where the crimes were reported and did not necessarily occur there. See the dataset webpage for more info."
   ]
  },
  {
   "cell_type": "code",
   "execution_count": 12,
   "metadata": {
    "scrolled": false
   },
   "outputs": [
    {
     "data": {
      "text/plain": [
       "Text(0.5,1,'Crimes Reported by District')"
      ]
     },
     "execution_count": 12,
     "metadata": {},
     "output_type": "execute_result"
    },
    {
     "data": {
      "image/png": "[encoded data removed]",
      "text/plain": [
       "<Figure size 576x360 with 1 Axes>"
      ]
     },
     "metadata": {},
     "output_type": "display_data"
    }
   ],
   "source": [
    "crimes['DISTRICT'].value_counts().plot.bar(figsize=(8,5))\n",
    "plt.title('Crimes Reported by District')"
   ]
  },
  {
   "cell_type": "code",
   "execution_count": 14,
   "metadata": {},
   "outputs": [
    {
     "data": {
      "text/html": [
       "<div>\n",
       "<style scoped>\n",
       "    .dataframe tbody tr th:only-of-type {\n",
       "        vertical-align: middle;\n",
       "    }\n",
       "\n",
       "    .dataframe tbody tr th {\n",
       "        vertical-align: top;\n",
       "    }\n",
       "\n",
       "    .dataframe thead th {\n",
       "        text-align: right;\n",
       "    }\n",
       "</style>\n",
       "<table border=\"1\" class=\"dataframe\">\n",
       "  <thead>\n",
       "    <tr style=\"text-align: right;\">\n",
       "      <th></th>\n",
       "      <th>LCR</th>\n",
       "      <th>LCR DESC</th>\n",
       "      <th>INC DATETIME</th>\n",
       "      <th>INC NO</th>\n",
       "      <th>LOCATION</th>\n",
       "      <th>DISTRICT</th>\n",
       "      <th>Month</th>\n",
       "      <th>Day</th>\n",
       "      <th>Year</th>\n",
       "    </tr>\n",
       "  </thead>\n",
       "  <tbody>\n",
       "    <tr>\n",
       "      <th>0</th>\n",
       "      <td>81A</td>\n",
       "      <td>Miscellaneous/All Other Non-Offenses</td>\n",
       "      <td>2014-08-14 22:21:00</td>\n",
       "      <td>P14085939</td>\n",
       "      <td>(35.82367885079229, -78.62333290344488)</td>\n",
       "      <td>NaN</td>\n",
       "      <td>8.0</td>\n",
       "      <td>Thursday</td>\n",
       "      <td>2014.0</td>\n",
       "    </tr>\n",
       "    <tr>\n",
       "      <th>1</th>\n",
       "      <td>80B</td>\n",
       "      <td>All Other/Damage to Property (minor)</td>\n",
       "      <td>2014-08-14 22:07:00</td>\n",
       "      <td>P14085936</td>\n",
       "      <td>(35.75644323486635, -78.60984284716082)</td>\n",
       "      <td>NaN</td>\n",
       "      <td>8.0</td>\n",
       "      <td>Thursday</td>\n",
       "      <td>2014.0</td>\n",
       "    </tr>\n",
       "  </tbody>\n",
       "</table>\n",
       "</div>"
      ],
      "text/plain": [
       "   LCR                              LCR DESC        INC DATETIME     INC NO  \\\n",
       "0  81A  Miscellaneous/All Other Non-Offenses 2014-08-14 22:21:00  P14085939   \n",
       "1  80B  All Other/Damage to Property (minor) 2014-08-14 22:07:00  P14085936   \n",
       "\n",
       "                                  LOCATION DISTRICT  Month       Day    Year  \n",
       "0  (35.82367885079229, -78.62333290344488)      NaN    8.0  Thursday  2014.0  \n",
       "1  (35.75644323486635, -78.60984284716082)      NaN    8.0  Thursday  2014.0  "
      ]
     },
     "execution_count": 14,
     "metadata": {},
     "output_type": "execute_result"
    }
   ],
   "source": [
    "#Create Month and Day Variables for further exploration.\n",
    "crimes['Month'] = crimes['INC DATETIME'].dt.month\n",
    "crimes['Day'] = crimes['INC DATETIME'].dt.weekday_name\n",
    "crimes['Year'] = crimes['INC DATETIME'].dt.year\n",
    "crimes.head(2)"
   ]
  },
  {
   "cell_type": "markdown",
   "metadata": {},
   "source": [
    "# Which months had the highest number of crimes?"
   ]
  },
  {
   "cell_type": "code",
   "execution_count": 15,
   "metadata": {},
   "outputs": [
    {
     "data": {
      "text/plain": [
       "5.0    50486\n",
       "8.0    49573\n",
       "7.0    48647\n",
       "Name: Month, dtype: int64"
      ]
     },
     "execution_count": 15,
     "metadata": {},
     "output_type": "execute_result"
    }
   ],
   "source": [
    "crimes['Month'].value_counts().head(3)\n",
    "\n",
    "#Note: Maybe it's the hot weather? The months were May, August, and July."
   ]
  },
  {
   "cell_type": "markdown",
   "metadata": {},
   "source": [
    "# Which months had the lowest number of crimes?"
   ]
  },
  {
   "cell_type": "code",
   "execution_count": 16,
   "metadata": {},
   "outputs": [
    {
     "data": {
      "text/plain": [
       "2.0     40763\n",
       "11.0    44244\n",
       "12.0    45410\n",
       "Name: Month, dtype: int64"
      ]
     },
     "execution_count": 16,
     "metadata": {},
     "output_type": "execute_result"
    }
   ],
   "source": [
    "crimes['Month'].value_counts(ascending=True).head(3)\n",
    "\n",
    "#Note: Crimes seem to be occuring less in the colder months? I figured December would be higher."
   ]
  },
  {
   "cell_type": "markdown",
   "metadata": {},
   "source": [
    "# What do crimes look like by days of the week?"
   ]
  },
  {
   "cell_type": "code",
   "execution_count": 17,
   "metadata": {},
   "outputs": [
    {
     "data": {
      "text/plain": [
       "Friday       83797\n",
       "Monday       83608\n",
       "Wednesday    83223\n",
       "Tuesday      82972\n",
       "Thursday     81202\n",
       "Saturday     76022\n",
       "Sunday       71135\n",
       "Name: Day, dtype: int64"
      ]
     },
     "execution_count": 17,
     "metadata": {},
     "output_type": "execute_result"
    }
   ],
   "source": [
    "crimes['Day'].value_counts()\n",
    "\n",
    "#It's really not that much difference between days; although Sunday's rates are a little lower than the other days."
   ]
  },
  {
   "cell_type": "markdown",
   "metadata": {},
   "source": [
    "# Is crime getting better or worse on average?\n",
    "\n",
    "Note: not sure if the data is normalized for the population increase over the years."
   ]
  },
  {
   "cell_type": "code",
   "execution_count": 22,
   "metadata": {},
   "outputs": [
    {
     "data": {
      "text/plain": [
       "<matplotlib.axes._subplots.AxesSubplot at 0x1ecb748de80>"
      ]
     },
     "execution_count": 22,
     "metadata": {},
     "output_type": "execute_result"
    },
    {
     "data": {
      "image/png": "[encoded data removed]",
      "text/plain": [
       "<Figure size 720x360 with 1 Axes>"
      ]
     },
     "metadata": {},
     "output_type": "display_data"
    }
   ],
   "source": [
    "plt.title('Reported Crimes by Year')\n",
    "plt.style.use('ggplot')\n",
    "\n",
    "#Note change year to integer format prior to graphing\n",
    "crimes['Year'].dropna().astype(int).value_counts().plot.bar(figsize=(10,5))\n",
    "\n",
    "#Some of the lowest crime rates have occured over the last few years. "
   ]
  }
 ],
 "metadata": {
  "kernelspec": {
   "display_name": "Python 3",
   "language": "python",
   "name": "python3"
  },
  "language_info": {
   "codemirror_mode": {
    "name": "ipython",
    "version": 3
   },
   "file_extension": ".py",
   "mimetype": "text/x-python",
   "name": "python",
   "nbconvert_exporter": "python",
   "pygments_lexer": "ipython3",
   "version": "3.6.6"
  }
 },
 "nbformat": 4,
 "nbformat_minor": 2
}
